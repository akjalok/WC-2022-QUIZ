{
 "cells": [
  {
   "cell_type": "code",
   "execution_count": 1,
   "id": "ee42d40e",
   "metadata": {},
   "outputs": [
    {
     "name": "stdout",
     "output_type": "stream",
     "text": [
      "================\n",
      "Who scored the most goals in the world cup?\n",
      "['A. Mbappe', 'B. Messi', 'C. Ronaldo', 'D. Neymar']\n",
      "A\n",
      "================\n",
      "Who was the player of tournament?\n",
      "['A. Mbappe', 'B. Messi', 'C. Ronaldo', 'D. Modric']\n",
      "B\n",
      "================\n",
      "Who missed 2 group stage matches due to injury?\n",
      "['A. Dembele', 'B. Dybala', 'C. Bale', 'D. Neymar']\n",
      "D\n",
      "================\n",
      "Whose team finished 3rd?\n",
      "['A. Dembele', 'B. Dybala', 'C. Modric', 'D. Neymar']\n",
      "C\n",
      "================\n",
      "Who scored the hattrick in wc finals?\n",
      "['A. Mbappe', 'B. Messi', 'C. Ronaldo', 'D. Modric']\n",
      "A\n",
      "================\n",
      "Who scored in all the stages of wc?\n",
      "['A. Mbappe', 'B. Messi', 'C. Ronaldo', 'D. Neymar']\n",
      "B\n",
      "Score:6\n",
      "Accuracy:100.0%\n",
      "Play again???0/10\n"
     ]
    }
   ],
   "source": [
    "def new_game():\n",
    "    pa=1\n",
    "    while pa == 1:\n",
    "        correct = 0\n",
    "        ques_num=1\n",
    "        for key in questions:\n",
    "            print(\"================\")\n",
    "            print(key)\n",
    "            print(options[ques_num-1])\n",
    "            ques_num+=1\n",
    "            if input()==questions[key]:\n",
    "                correct+=1\n",
    "        print(\"Score:{}\".format(correct))\n",
    "        print(\"Accuracy:{}%\".format(correct*100/6))\n",
    "        pa=int(input(\"Play again???0/1\"))\n",
    "\n",
    "\n",
    "questions={\n",
    "    \"Who scored the most goals in the world cup?\":\"A\",\n",
    "    \"Who was the player of tournament?\":\"B\",\n",
    "    \"Who missed 2 group stage matches due to injury?\":\"D\",\n",
    "    \"Whose team finished 3rd?\":\"C\",\n",
    "    \"Who scored the hattrick in wc finals?\":\"A\",\n",
    "    \"Who scored in all the stages of wc?\":\"B\"\n",
    "}\n",
    "options = [[\"A. Mbappe\",\"B. Messi\",\"C. Ronaldo\",\"D. Neymar\"],\n",
    "           [\"A. Mbappe\",\"B. Messi\",\"C. Ronaldo\",\"D. Modric\"],\n",
    "           [\"A. Dembele\",\"B. Dybala\",\"C. Bale\",\"D. Neymar\"],\n",
    "          [\"A. Dembele\",\"B. Dybala\",\"C. Modric\",\"D. Neymar\"],\n",
    "          [\"A. Mbappe\",\"B. Messi\",\"C. Ronaldo\",\"D. Modric\"],\n",
    "          [\"A. Mbappe\",\"B. Messi\",\"C. Ronaldo\",\"D. Neymar\"]]\n",
    "new_game()"
   ]
  },
  {
   "cell_type": "code",
   "execution_count": null,
   "id": "caf35e88",
   "metadata": {},
   "outputs": [],
   "source": []
  }
 ],
 "metadata": {
  "kernelspec": {
   "display_name": "Python 3 (ipykernel)",
   "language": "python",
   "name": "python3"
  },
  "language_info": {
   "codemirror_mode": {
    "name": "ipython",
    "version": 3
   },
   "file_extension": ".py",
   "mimetype": "text/x-python",
   "name": "python",
   "nbconvert_exporter": "python",
   "pygments_lexer": "ipython3",
   "version": "3.9.13"
  }
 },
 "nbformat": 4,
 "nbformat_minor": 5
}
